{
 "cells": [
  {
   "cell_type": "markdown",
   "metadata": {},
   "source": [
    "# Test notebook\n",
    "for porting collective radiance code to python"
   ]
  },
  {
   "cell_type": "code",
   "execution_count": 1,
   "metadata": {},
   "outputs": [],
   "source": [
    "from numpy import *\n",
    "import numpy.linalg as la\n",
    "from scipy.integrate import solve_ivp\n",
    "import matplotlib.pyplot as plt\n",
    "from time import time\n",
    "from random import random\n",
    "import csv\n",
    "\n",
    "# local \n",
    "from physconsts import *\n",
    "from simfuncs import *"
   ]
  },
  {
   "cell_type": "markdown",
   "metadata": {},
   "source": [
    "### two level Rabi oscillation example"
   ]
  },
  {
   "cell_type": "code",
   "execution_count": 2,
   "metadata": {},
   "outputs": [],
   "source": [
    "## simple Rabi oscillation in two level atom\n",
    "\n",
    "psi0 = array([1,0], complex) # population starts in |g>\n",
    "\n",
    "delta = 10\n",
    "omega = 2*pi\n",
    "\n",
    "# atom+field Hamiltonian, hbar=1\n",
    "Haf = array([[0,-omega/2],[-omega/2,0]])\n",
    "\n",
    "numsteps = 100\n",
    "tmin = 0\n",
    "tmax = 3 \n",
    "tpts = linspace(tmin,tmax,numsteps)\n",
    "\n",
    "dpsi = lambda t,state: 1j*dot(Haf,state)\n",
    "\n",
    "soln = solve_ivp(dpsi,[tmin,tmax],psi0, t_eval=tpts,vectorized=True)"
   ]
  },
  {
   "cell_type": "code",
   "execution_count": 3,
   "metadata": {
    "scrolled": true
   },
   "outputs": [
    {
     "data": {
      "text/plain": [
       "<matplotlib.legend.Legend at 0x28c48246240>"
      ]
     },
     "execution_count": 3,
     "metadata": {},
     "output_type": "execute_result"
    },
    {
     "data": {
      "image/png": "[encoded data removed]",
      "text/plain": [
       "<Figure size 432x288 with 1 Axes>"
      ]
     },
     "metadata": {
      "needs_background": "light"
     },
     "output_type": "display_data"
    }
   ],
   "source": [
    "labels = ['|g>','|e>']\n",
    "for i,y in enumerate(soln.y):\n",
    "    plt.plot(soln.t,real(conjugate(y)*y),label=labels[i])\n",
    "plt.legend(loc='best')"
   ]
  },
  {
   "cell_type": "markdown",
   "metadata": {},
   "source": [
    "## reproduce single-excitation collective radiance results from my Mathematica code"
   ]
  },
  {
   "cell_type": "code",
   "execution_count": 5,
   "metadata": {},
   "outputs": [],
   "source": [
    "# constants setup\n",
    "lmbda = 7.8e-7\n",
    "k = 2*pi/lmbda\n",
    "\n",
    "# function definitions\n",
    "unit = lambda v: array(v)/sqrt(dot(array(v),array(v)))\n",
    "egen = eye(3) # generic basis set\n",
    "ecart = [array([1,0,-1])/sqrt(2), \n",
    "         -1j*array([1,0,1])/sqrt(2), \n",
    "         array([0,1,0])]\n",
    "# matelem = ee*a0\n",
    "# gamma = matelem**2*k**3/(6*pi*e0)\n",
    "gamma = 1\n",
    "\n",
    "r = lambda i,j: array([0, \n",
    "                       mod(j,sqrt(atomnum)) - mod(i,sqrt(atomnum)),\n",
    "                       floor(j/sqrt(atomnum)) - floor(i/sqrt(atomnum))])\n",
    "\n",
    "def gdotp(r,p):\n",
    "    \"\"\"\n",
    "    Dipole radiation measured at r\n",
    "    Args:\n",
    "        r: distance from dipole to measurement location\n",
    "        p: vector representation of source dipole\n",
    "    Returns:\n",
    "        y: G acting on p, a complex vector\n",
    "    \"\"\"\n",
    "    y = exp(1j*k*sqrt(dot(r,r)))*(cross(cross(unit(r),p),unit(r))\n",
    "                                   + (1/(dot(r,r)*k**2)  \n",
    "                                   - 1j/(k*sqrt(dot(r,r)))) \\\n",
    "                                   *(3*unit(r)*dot(unit(r),p) - p)) \\\n",
    "                                 /(4*pi*sqrt(dot(r,r)))\n",
    "    return y\n",
    "\n",
    "class ArrayMode:\n",
    "    \n",
    "    def __init__(self, vector, name, color):\n",
    "        self.vector = vector\n",
    "        self.name = name\n",
    "        self.color = color\n",
    "        \n",
    "    def __repr__(self):\n",
    "        return f\"ArrayMode({self.name})\""
   ]
  },
  {
   "cell_type": "markdown",
   "metadata": {},
   "source": [
    "### linewidth v period"
   ]
  },
  {
   "cell_type": "code",
   "execution_count": 118,
   "metadata": {},
   "outputs": [],
   "source": [
    "# square grid setup\n",
    "atomnum = 25\n",
    "gridname = \"square\"\n",
    "fmode = ArrayMode(unit(full(atomnum,1)), 'Symmetric', 'blue')\n",
    "afmode = ArrayMode(unit([(-1)**(i+1) for i in range(atomnum)]), 'Asymmetric', 'purple')\n",
    "modelist = [fmode, afmode]\n",
    "\n",
    "basisnum = atomnum"
   ]
  },
  {
   "cell_type": "code",
   "execution_count": 119,
   "metadata": {},
   "outputs": [
    {
     "name": "stdout",
     "output_type": "stream",
     "text": [
      "calculated step 0\n",
      "calculated step 1\n",
      "calculated step 2\n",
      "calculated step 3\n",
      "calculated step 4\n",
      "calculated step 5\n",
      "calculated step 6\n",
      "calculated step 7\n",
      "calculated step 8\n",
      "calculated step 9\n",
      "sim ran for 0.0 minutes\n"
     ]
    }
   ],
   "source": [
    "# build the hamiltonian\n",
    "\n",
    "unitp = egen[0] # atom polarization\n",
    "dsteps = linspace(0.01,1.0,10)\n",
    "soln = empty((len(modelist),len(dsteps)),float)\n",
    "\n",
    "t0 = time()\n",
    "for d_idx,d in enumerate(dsteps):\n",
    "    hamiltonian = empty((basisnum, basisnum), complex)\n",
    "    \n",
    "    # build the hamiltonian\n",
    "\n",
    "    for i in range(basisnum):\n",
    "        for j in range(basisnum):\n",
    "            if i!=j:\n",
    "                u = lmbda*d*r(i,j)\n",
    "                hamiltonian[i,j] = 6*pi*gamma*dot(unitp, gdotp(u, unitp))/k\n",
    "            else:\n",
    "                hamiltonian[i,j] = 1j*gamma\n",
    "    \n",
    "    # find eigenmodes that overlap target mode\n",
    "    evals,evecs = la.eig(hamiltonian)\n",
    "    for m_idx,mode in enumerate(modelist):\n",
    "        overlap = [[] for i in range(basisnum)]\n",
    "        for i in range(basisnum):\n",
    "            overlap[i] = [i,abs(dot(mode.vector, evecs[:,i]))]\n",
    "        overlap.sort(key=lambda x: x[1]) # sort by overlap\n",
    "        max_idx = overlap[-1][0]\n",
    "        soln[m_idx,d_idx] = imag(evals[max_idx])/gamma\n",
    "        \n",
    "    print(f\"calculated step {d_idx}\")\n",
    "\n",
    "print(f\"sim ran for {floor((time()-t0)/60)} minutes\")"
   ]
  },
  {
   "cell_type": "code",
   "execution_count": 120,
   "metadata": {
    "scrolled": false
   },
   "outputs": [
    {
     "data": {
      "text/plain": [
       "<matplotlib.legend.Legend at 0x1f3a5575f98>"
      ]
     },
     "execution_count": 120,
     "metadata": {},
     "output_type": "execute_result"
    },
    {
     "data": {
      "image/png": "[encoded data removed]",
      "text/plain": [
       "<Figure size 432x288 with 1 Axes>"
      ]
     },
     "metadata": {
      "needs_background": "light"
     },
     "output_type": "display_data"
    }
   ],
   "source": [
    "fig,ax = plt.subplots()\n",
    "for s,m in zip(soln,modelist):\n",
    "    ax.plot(dsteps,log10(s),label=m.name,c=m.color)\n",
    "ax.legend()"
   ]
  },
  {
   "cell_type": "code",
   "execution_count": 7,
   "metadata": {},
   "outputs": [],
   "source": [
    "data = [dsteps] + [s for s in soln]\n",
    "labels = ['d [lambda]'] + [m.name for m in modelist]"
   ]
  },
  {
   "cell_type": "code",
   "execution_count": 8,
   "metadata": {},
   "outputs": [],
   "source": [
    "# test write soln to csv\n",
    "soln_to_csv('testfun1.csv', data, labels)"
   ]
  },
  {
   "cell_type": "code",
   "execution_count": 9,
   "metadata": {},
   "outputs": [],
   "source": [
    "# test retrieve soln from csv\n",
    "data, labels = soln_from_csv('testfun1.csv')\n",
    "xsteps = data[0]\n",
    "soln = data[1:]\n",
    "\n",
    "xlabel = labels[0]\n",
    "ylabels = labels[1:]"
   ]
  },
  {
   "cell_type": "code",
   "execution_count": 122,
   "metadata": {
    "scrolled": false
   },
   "outputs": [
    {
     "data": {
      "text/plain": [
       "<matplotlib.legend.Legend at 0x1f3a55c94a8>"
      ]
     },
     "execution_count": 122,
     "metadata": {},
     "output_type": "execute_result"
    },
    {
     "data": {
      "image/png": "[encoded data removed]",
      "text/plain": [
       "<Figure size 432x288 with 1 Axes>"
      ]
     },
     "metadata": {
      "needs_background": "light"
     },
     "output_type": "display_data"
    }
   ],
   "source": [
    "# plot the soln to verify it was stored and retrieved correctly\n",
    "fig,ax = plt.subplots()\n",
    "for s,l in zip(soln,ylabels):\n",
    "    ax.plot(xsteps,log10(s),label=l)\n",
    "ax.legend()"
   ]
  },
  {
   "cell_type": "markdown",
   "metadata": {},
   "source": [
    "### time evolution"
   ]
  },
  {
   "cell_type": "code",
   "execution_count": 6,
   "metadata": {},
   "outputs": [],
   "source": [
    "# square grid setup\n",
    "atomnum = 25\n",
    "gridname = \"square\"\n",
    "fmode = ArrayMode(unit(full(atomnum,1,complex)), 'Symmetric', 'blue')\n",
    "afmode = ArrayMode(unit(array([(-1)**(i+1) for i in range(atomnum)],complex)), 'Asymmetric', 'purple')\n",
    "modelist = [fmode, afmode]\n",
    "center_idx = int(floor(sqrt(atomnum)/2)*(sqrt(atomnum)+1))\n",
    "\n",
    "basisnum = atomnum"
   ]
  },
  {
   "cell_type": "code",
   "execution_count": 78,
   "metadata": {
    "scrolled": true
   },
   "outputs": [
    {
     "name": "stdout",
     "output_type": "stream",
     "text": [
      "sim ran for 0.0 minutes\n"
     ]
    }
   ],
   "source": [
    "## params\n",
    "unitp = egen[0] # atom polarization\n",
    "d = 0.75\n",
    "tmin = 0 \n",
    "tmax = 100\n",
    "numsteps = 100\n",
    "tsteps = linspace(tmin, tmax, numsteps)\n",
    "moi = fmode # mode of interest\n",
    "\n",
    "## setup initial state\n",
    "exc_idcs = array([[center_idx+i+j for i in [-sqrt(atomnum), 0, sqrt(atomnum)]]\n",
    "       for j in [-1,0,1]],int).flatten()\n",
    "psi0 = full(atomnum, 0, complex)\n",
    "psi0[exc_idcs] = 1/3\n",
    "soln = empty(len(tsteps),float)\n",
    "\n",
    "## build the hamiltonian\n",
    "hamiltonian = empty((basisnum, basisnum), complex)\n",
    "for i in range(basisnum):\n",
    "    for j in range(basisnum):\n",
    "        if i!=j:\n",
    "            u = lmbda*d*r(i,j)\n",
    "            hamiltonian[i,j] = 6*pi*gamma*dot(unitp, gdotp(u, unitp))/k\n",
    "        else:\n",
    "            hamiltonian[i,j] = 1j*gamma\n",
    "            \n",
    "evals,evecs = la.eig(hamiltonian)\n",
    "\n",
    "## find the mode of interest\n",
    "overlap = [[i,abs(dot(moi.vector, evecs[:,i]))] for i in range(basisnum)]\n",
    "overlap.sort(key=lambda x: x[1]) # sort by overlap\n",
    "max_idx = overlap[-1][0]\n",
    "tmode = ArrayMode(evecs[:,max_idx],moi.name,moi.color)\n",
    "            \n",
    "## setup and solve Schrodinger eq\n",
    "dpsi = lambda t,state: 1j*dot(hamiltonian,state)\n",
    "\n",
    "t0 = time()\n",
    "soln = solve_ivp(dpsi,[tmin,tmax],psi0,t_eval=tsteps,vectorized=True)#,\n",
    "                 #rtol=1e-12,atol=1e-12,method='BDF')\n",
    "\n",
    "## transform to vector solution\n",
    "vecsoln = soln.y.T\n",
    "\n",
    "print(f\"sim ran for {floor((time()-t0)/60)} minutes\")"
   ]
  },
  {
   "cell_type": "code",
   "execution_count": 8,
   "metadata": {},
   "outputs": [
    {
     "name": "stdout",
     "output_type": "stream",
     "text": [
      "[ 0.        +1.j          0.06754746-0.30397587j -0.15736319-0.01688686j]\n",
      "[0.06754746-0.30397587j 0.        +1.j         0.06754746-0.30397587j]\n",
      "[-0.15736319-0.01688686j  0.06754746-0.30397587j  0.        +1.j        ]\n"
     ]
    }
   ],
   "source": [
    "for h in hamiltonian[:3,:3]:\n",
    "    print(h)"
   ]
  },
  {
   "cell_type": "code",
   "execution_count": 68,
   "metadata": {
    "scrolled": true
   },
   "outputs": [
    {
     "data": {
      "text/plain": [
       "[<matplotlib.lines.Line2D at 0x28c49ea6f98>]"
      ]
     },
     "execution_count": 68,
     "metadata": {},
     "output_type": "execute_result"
    },
    {
     "data": {
      "image/png": "[encoded data removed]",
      "text/plain": [
       "<Figure size 432x288 with 1 Axes>"
      ]
     },
     "metadata": {
      "needs_background": "light"
     },
     "output_type": "display_data"
    }
   ],
   "source": [
    "plt.plot(soln.t, real(soln.y[center_idx]))"
   ]
  },
  {
   "cell_type": "code",
   "execution_count": 80,
   "metadata": {},
   "outputs": [],
   "source": [
    "modesoln = empty(numsteps, float) # population in mode of interest\n",
    "totalsoln = empty(numsteps, float) # total population\n",
    "\n",
    "norm = sum([abs(dot(evec,vecsoln[0]))**2 for evec in evecs.T])\n",
    "\n",
    "for i in range(numsteps):\n",
    "    # find overlap with mode of interest\n",
    "    modesoln[i] = abs(dot(vecsoln[i], tmode.vector))**2/norm\n",
    "    totalsoln[i] = sum([abs(dot(vecsoln[i], evec))**2 for evec in evecs.T])/norm\n",
    "    \n",
    "othersoln = totalsoln - modesoln # pop. in non-interesting modes\n",
    "solnlist = [modesoln,totalsoln,othersoln]\n",
    "labels = [moi.name, 'total', 'other']"
   ]
  },
  {
   "cell_type": "code",
   "execution_count": 85,
   "metadata": {},
   "outputs": [
    {
     "data": {
      "text/plain": [
       "0.7501655815179966"
      ]
     },
     "execution_count": 85,
     "metadata": {},
     "output_type": "execute_result"
    }
   ],
   "source": [
    "abs(dot(vecsoln[0],tmode.vector))**2"
   ]
  },
  {
   "cell_type": "code",
   "execution_count": 86,
   "metadata": {
    "scrolled": true
   },
   "outputs": [
    {
     "data": {
      "text/plain": [
       "<matplotlib.legend.Legend at 0x28c49f1acf8>"
      ]
     },
     "execution_count": 86,
     "metadata": {},
     "output_type": "execute_result"
    },
    {
     "data": {
      "image/png": "[encoded data removed]",
      "text/plain": [
       "<Figure size 432x288 with 1 Axes>"
      ]
     },
     "metadata": {
      "needs_background": "light"
     },
     "output_type": "display_data"
    }
   ],
   "source": [
    "fig,ax = plt.subplots()\n",
    "\n",
    "for s,l in zip(solnlist, labels):\n",
    "    ax.plot(tsteps,s,label=l)\n",
    "ax.legend()"
   ]
  },
  {
   "cell_type": "code",
   "execution_count": null,
   "metadata": {},
   "outputs": [],
   "source": []
  }
 ],
 "metadata": {
  "kernelspec": {
   "display_name": "Python 3",
   "language": "python",
   "name": "python3"
  },
  "language_info": {
   "codemirror_mode": {
    "name": "ipython",
    "version": 3
   },
   "file_extension": ".py",
   "mimetype": "text/x-python",
   "name": "python",
   "nbconvert_exporter": "python",
   "pygments_lexer": "ipython3",
   "version": "3.7.3"
  }
 },
 "nbformat": 4,
 "nbformat_minor": 2
}
